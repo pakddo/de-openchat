{
  "nbformat": 4,
  "nbformat_minor": 0,
  "metadata": {
    "colab": {
      "name": "DE-openchat-step1.ipynb",
      "provenance": [],
      "collapsed_sections": [],
      "mount_file_id": "1IoP1yiaevVmN0ER7xdwf251QIBeLtqaP",
      "authorship_tag": "ABX9TyM222EEM8ht/NXA0BQeyXY3",
      "include_colab_link": true
    },
    "kernelspec": {
      "name": "python3",
      "display_name": "Python 3"
    },
    "language_info": {
      "name": "python"
    },
    "widgets": {
      "application/vnd.jupyter.widget-state+json": {
        "3a6a8bd76a404751acfbbba90f9c9419": {
          "model_module": "@jupyter-widgets/controls",
          "model_name": "HBoxModel",
          "model_module_version": "1.5.0",
          "state": {
            "_view_name": "HBoxView",
            "_dom_classes": [],
            "_model_name": "HBoxModel",
            "_view_module": "@jupyter-widgets/controls",
            "_model_module_version": "1.5.0",
            "_view_count": null,
            "_view_module_version": "1.5.0",
            "box_style": "",
            "layout": "IPY_MODEL_9dc996620a9f474e845082642819a931",
            "_model_module": "@jupyter-widgets/controls",
            "children": [
              "IPY_MODEL_8cdf9570b5c8406ea6e7c64c5e7100cc",
              "IPY_MODEL_5cb5a158a51e4051ae153f847a07f1d4",
              "IPY_MODEL_f8dc27e02bff42eaa68f817e066f9129"
            ]
          }
        },
        "9dc996620a9f474e845082642819a931": {
          "model_module": "@jupyter-widgets/base",
          "model_name": "LayoutModel",
          "model_module_version": "1.2.0",
          "state": {
            "_view_name": "LayoutView",
            "grid_template_rows": null,
            "right": null,
            "justify_content": null,
            "_view_module": "@jupyter-widgets/base",
            "overflow": null,
            "_model_module_version": "1.2.0",
            "_view_count": null,
            "flex_flow": null,
            "width": null,
            "min_width": null,
            "border": null,
            "align_items": null,
            "bottom": null,
            "_model_module": "@jupyter-widgets/base",
            "top": null,
            "grid_column": null,
            "overflow_y": null,
            "overflow_x": null,
            "grid_auto_flow": null,
            "grid_area": null,
            "grid_template_columns": null,
            "flex": null,
            "_model_name": "LayoutModel",
            "justify_items": null,
            "grid_row": null,
            "max_height": null,
            "align_content": null,
            "visibility": null,
            "align_self": null,
            "height": null,
            "min_height": null,
            "padding": null,
            "grid_auto_rows": null,
            "grid_gap": null,
            "max_width": null,
            "order": null,
            "_view_module_version": "1.2.0",
            "grid_template_areas": null,
            "object_position": null,
            "object_fit": null,
            "grid_auto_columns": null,
            "margin": null,
            "display": null,
            "left": null
          }
        },
        "8cdf9570b5c8406ea6e7c64c5e7100cc": {
          "model_module": "@jupyter-widgets/controls",
          "model_name": "HTMLModel",
          "model_module_version": "1.5.0",
          "state": {
            "_view_name": "HTMLView",
            "style": "IPY_MODEL_a9af9776170545409e27e61e1a5a86ab",
            "_dom_classes": [],
            "description": "",
            "_model_name": "HTMLModel",
            "placeholder": "​",
            "_view_module": "@jupyter-widgets/controls",
            "_model_module_version": "1.5.0",
            "value": "100%",
            "_view_count": null,
            "_view_module_version": "1.5.0",
            "description_tooltip": null,
            "_model_module": "@jupyter-widgets/controls",
            "layout": "IPY_MODEL_d69153e25d784d3fb81c71ec342c8803"
          }
        },
        "5cb5a158a51e4051ae153f847a07f1d4": {
          "model_module": "@jupyter-widgets/controls",
          "model_name": "FloatProgressModel",
          "model_module_version": "1.5.0",
          "state": {
            "_view_name": "ProgressView",
            "style": "IPY_MODEL_1e29b372b7ce4a34a06f841dab210ebe",
            "_dom_classes": [],
            "description": "",
            "_model_name": "FloatProgressModel",
            "bar_style": "success",
            "max": 11308,
            "_view_module": "@jupyter-widgets/controls",
            "_model_module_version": "1.5.0",
            "value": 11308,
            "_view_count": null,
            "_view_module_version": "1.5.0",
            "orientation": "horizontal",
            "min": 0,
            "description_tooltip": null,
            "_model_module": "@jupyter-widgets/controls",
            "layout": "IPY_MODEL_bd97380ac4cf4c75b4163aa69c768761"
          }
        },
        "f8dc27e02bff42eaa68f817e066f9129": {
          "model_module": "@jupyter-widgets/controls",
          "model_name": "HTMLModel",
          "model_module_version": "1.5.0",
          "state": {
            "_view_name": "HTMLView",
            "style": "IPY_MODEL_b8adfc67cce84170af1a4e1bbbcfa35c",
            "_dom_classes": [],
            "description": "",
            "_model_name": "HTMLModel",
            "placeholder": "​",
            "_view_module": "@jupyter-widgets/controls",
            "_model_module_version": "1.5.0",
            "value": " 11308/11308 [00:00&lt;00:00, 163198.33it/s]",
            "_view_count": null,
            "_view_module_version": "1.5.0",
            "description_tooltip": null,
            "_model_module": "@jupyter-widgets/controls",
            "layout": "IPY_MODEL_fd28853b527b4c428b1e27999cf6d738"
          }
        },
        "a9af9776170545409e27e61e1a5a86ab": {
          "model_module": "@jupyter-widgets/controls",
          "model_name": "DescriptionStyleModel",
          "model_module_version": "1.5.0",
          "state": {
            "_view_name": "StyleView",
            "_model_name": "DescriptionStyleModel",
            "description_width": "",
            "_view_module": "@jupyter-widgets/base",
            "_model_module_version": "1.5.0",
            "_view_count": null,
            "_view_module_version": "1.2.0",
            "_model_module": "@jupyter-widgets/controls"
          }
        },
        "d69153e25d784d3fb81c71ec342c8803": {
          "model_module": "@jupyter-widgets/base",
          "model_name": "LayoutModel",
          "model_module_version": "1.2.0",
          "state": {
            "_view_name": "LayoutView",
            "grid_template_rows": null,
            "right": null,
            "justify_content": null,
            "_view_module": "@jupyter-widgets/base",
            "overflow": null,
            "_model_module_version": "1.2.0",
            "_view_count": null,
            "flex_flow": null,
            "width": null,
            "min_width": null,
            "border": null,
            "align_items": null,
            "bottom": null,
            "_model_module": "@jupyter-widgets/base",
            "top": null,
            "grid_column": null,
            "overflow_y": null,
            "overflow_x": null,
            "grid_auto_flow": null,
            "grid_area": null,
            "grid_template_columns": null,
            "flex": null,
            "_model_name": "LayoutModel",
            "justify_items": null,
            "grid_row": null,
            "max_height": null,
            "align_content": null,
            "visibility": null,
            "align_self": null,
            "height": null,
            "min_height": null,
            "padding": null,
            "grid_auto_rows": null,
            "grid_gap": null,
            "max_width": null,
            "order": null,
            "_view_module_version": "1.2.0",
            "grid_template_areas": null,
            "object_position": null,
            "object_fit": null,
            "grid_auto_columns": null,
            "margin": null,
            "display": null,
            "left": null
          }
        },
        "1e29b372b7ce4a34a06f841dab210ebe": {
          "model_module": "@jupyter-widgets/controls",
          "model_name": "ProgressStyleModel",
          "model_module_version": "1.5.0",
          "state": {
            "_view_name": "StyleView",
            "_model_name": "ProgressStyleModel",
            "description_width": "",
            "_view_module": "@jupyter-widgets/base",
            "_model_module_version": "1.5.0",
            "_view_count": null,
            "_view_module_version": "1.2.0",
            "bar_color": null,
            "_model_module": "@jupyter-widgets/controls"
          }
        },
        "bd97380ac4cf4c75b4163aa69c768761": {
          "model_module": "@jupyter-widgets/base",
          "model_name": "LayoutModel",
          "model_module_version": "1.2.0",
          "state": {
            "_view_name": "LayoutView",
            "grid_template_rows": null,
            "right": null,
            "justify_content": null,
            "_view_module": "@jupyter-widgets/base",
            "overflow": null,
            "_model_module_version": "1.2.0",
            "_view_count": null,
            "flex_flow": null,
            "width": null,
            "min_width": null,
            "border": null,
            "align_items": null,
            "bottom": null,
            "_model_module": "@jupyter-widgets/base",
            "top": null,
            "grid_column": null,
            "overflow_y": null,
            "overflow_x": null,
            "grid_auto_flow": null,
            "grid_area": null,
            "grid_template_columns": null,
            "flex": null,
            "_model_name": "LayoutModel",
            "justify_items": null,
            "grid_row": null,
            "max_height": null,
            "align_content": null,
            "visibility": null,
            "align_self": null,
            "height": null,
            "min_height": null,
            "padding": null,
            "grid_auto_rows": null,
            "grid_gap": null,
            "max_width": null,
            "order": null,
            "_view_module_version": "1.2.0",
            "grid_template_areas": null,
            "object_position": null,
            "object_fit": null,
            "grid_auto_columns": null,
            "margin": null,
            "display": null,
            "left": null
          }
        },
        "b8adfc67cce84170af1a4e1bbbcfa35c": {
          "model_module": "@jupyter-widgets/controls",
          "model_name": "DescriptionStyleModel",
          "model_module_version": "1.5.0",
          "state": {
            "_view_name": "StyleView",
            "_model_name": "DescriptionStyleModel",
            "description_width": "",
            "_view_module": "@jupyter-widgets/base",
            "_model_module_version": "1.5.0",
            "_view_count": null,
            "_view_module_version": "1.2.0",
            "_model_module": "@jupyter-widgets/controls"
          }
        },
        "fd28853b527b4c428b1e27999cf6d738": {
          "model_module": "@jupyter-widgets/base",
          "model_name": "LayoutModel",
          "model_module_version": "1.2.0",
          "state": {
            "_view_name": "LayoutView",
            "grid_template_rows": null,
            "right": null,
            "justify_content": null,
            "_view_module": "@jupyter-widgets/base",
            "overflow": null,
            "_model_module_version": "1.2.0",
            "_view_count": null,
            "flex_flow": null,
            "width": null,
            "min_width": null,
            "border": null,
            "align_items": null,
            "bottom": null,
            "_model_module": "@jupyter-widgets/base",
            "top": null,
            "grid_column": null,
            "overflow_y": null,
            "overflow_x": null,
            "grid_auto_flow": null,
            "grid_area": null,
            "grid_template_columns": null,
            "flex": null,
            "_model_name": "LayoutModel",
            "justify_items": null,
            "grid_row": null,
            "max_height": null,
            "align_content": null,
            "visibility": null,
            "align_self": null,
            "height": null,
            "min_height": null,
            "padding": null,
            "grid_auto_rows": null,
            "grid_gap": null,
            "max_width": null,
            "order": null,
            "_view_module_version": "1.2.0",
            "grid_template_areas": null,
            "object_position": null,
            "object_fit": null,
            "grid_auto_columns": null,
            "margin": null,
            "display": null,
            "left": null
          }
        }
      }
    }
  },
  "cells": [
    {
      "cell_type": "markdown",
      "metadata": {
        "id": "view-in-github",
        "colab_type": "text"
      },
      "source": [
        "<a href=\"https://colab.research.google.com/github/pakddo/de-openchat/blob/main/DE_openchat_step1.ipynb\" target=\"_parent\"><img src=\"https://colab.research.google.com/assets/colab-badge.svg\" alt=\"Open In Colab\"/></a>"
      ]
    },
    {
      "cell_type": "code",
      "metadata": {
        "id": "eIFJm3YGp2Jx"
      },
      "source": [
        "import pandas as pd\n",
        "import re\n",
        "from dateutil.parser import parse\n",
        "\n",
        "from tqdm.auto import tqdm\n",
        "tqdm.pandas()"
      ],
      "execution_count": 1,
      "outputs": []
    },
    {
      "cell_type": "code",
      "metadata": {
        "id": "XE4cIW5RmUul"
      },
      "source": [
        "DIR = '/content/drive/MyDrive/2021.10.05_Openchat_text_analysis/'\n",
        "FILENAME = '한국 데이터 엔지니어 모임 315 님과 카카오톡 대화'\n",
        "OUTPUT = 'DE_target_text.xlsx'"
      ],
      "execution_count": 2,
      "outputs": []
    },
    {
      "cell_type": "code",
      "metadata": {
        "id": "RDSp7qGN6qMB",
        "colab": {
          "base_uri": "https://localhost:8080/",
          "height": 113,
          "referenced_widgets": [
            "3a6a8bd76a404751acfbbba90f9c9419",
            "9dc996620a9f474e845082642819a931",
            "8cdf9570b5c8406ea6e7c64c5e7100cc",
            "5cb5a158a51e4051ae153f847a07f1d4",
            "f8dc27e02bff42eaa68f817e066f9129",
            "a9af9776170545409e27e61e1a5a86ab",
            "d69153e25d784d3fb81c71ec342c8803",
            "1e29b372b7ce4a34a06f841dab210ebe",
            "bd97380ac4cf4c75b4163aa69c768761",
            "b8adfc67cce84170af1a4e1bbbcfa35c",
            "fd28853b527b4c428b1e27999cf6d738"
          ]
        },
        "outputId": "b9038514-03fc-4836-e169-7cf0017bc97a"
      },
      "source": [
        "## 텍스트 전처리 Step 0 : 파일에 포함된 모든 텍스트를 하나로 합치고 시간 기준으로 자름\n",
        "f = open(f'{DIR}/{FILENAME}', 'r')\n",
        "\n",
        "text_list = []\n",
        "while True:\n",
        "    line = f.readline()\n",
        "    if not line: break \n",
        "    line = line.replace('\\ufeff', '')       \n",
        "    line = re.sub(r'(202[0-1]+)년 ([0-9]+)월 ([0-9]+)일 (오전|오후) ([0-9]+:[0-9]+), ', \n",
        "          r'<return>\\1-\\2-\\3 \\5\\4<tab>',\n",
        "          line, 1)\n",
        "    line = line.replace('오전<tab>','AM<tab>')\\\n",
        "               .replace('오후<tab>','PM<tab>')\n",
        "    line = line.replace(' : ', '<tab>', 1)\n",
        "    line = line.replace('\\n', '<br>')    \n",
        "    line = line.rstrip('<br> ')    \n",
        "    text_list.append(line)   \n",
        "f.close()\n",
        "text = ''.join(text_list)\n",
        "text_split = text.split('<return>')\n",
        "## 텍스트 전처리 Step 1 : 줄바꿈 및 칼럼 구분자 정리\n",
        "text_list_1st = []\n",
        "for line in tqdm(text_split):     \n",
        "    line = line.split('<tab>')  \n",
        "    text_list_1st.append(line)\n",
        "text_list_1st = text_list_1st[2:]\n",
        "df = pd.DataFrame(text_list_1st).reset_index()\n",
        "df_target_text = df.rename(columns={0:'timestamp', 1:'chat_name', 2:'full_text'}).copy()\n",
        "df_a = df[['index', 0, 1]].rename(columns={0:'timestamp', 1:'chat_name'}).copy()\n",
        "\n",
        "full_columns = []\n",
        "full_columns.append('index')\n",
        "list_columns = [x for x in range(2, 6)]\n",
        "full_columns.extend(list_columns)\n",
        "\n",
        "df_b = df[full_columns].copy()\n",
        "df_b = df_b.fillna('')\n",
        "df_b['full_text'] = df_b[list_columns].apply(lambda x: ''.join(x), axis=1)\n",
        "df_b = df_b[['index', 'full_text']].copy()\n",
        "df_target_text = df_a.merge(df_b, how='left')\n",
        "df_target_text.fillna('', inplace=True)\n",
        "\n",
        "## 텍스트 전처리 Step 4 : chat_name 칼럼 생성\n",
        "df_target_text['chat_name'] = df_target_text.chat_name.progress_apply(lambda x: x.replace('님이 들어왔습니다.\\n 운영정책을 위반한 메시지로 신고 접수 시 카카오톡 이용에 제한이 있을 수 있습니다. 자세히 보기', '').replace('님이 들어왔습니다.', '').replace('님이 나갔습니다.', ''))\n",
        "df_target_text['chat_name'] = df_target_text['chat_name'].str.strip()\n",
        "df_target_text['timestamp'] = df_target_text.timestamp.progress_apply(lambda x : parse(x , fuzzy_with_tokens=True)[0])\n",
        "df_target_text = df_target_text[['timestamp', 'chat_name', 'full_text']].copy()\n",
        "df_target_text = df_target_text[(df_target_text.chat_name != '') \n",
        "                                & (df_target_text.full_text != '')].copy()\n",
        "\n",
        "\n",
        "## 텍스트 전처리 Step 5 : 인덱스 재설정                                \n",
        "df_target_text = df_target_text.reset_index(drop=True)\n",
        "df_target_text.index = df_target_text.index + 1\n",
        "df_target_text.reset_index(inplace=True)"
      ],
      "execution_count": 5,
      "outputs": [
        {
          "output_type": "display_data",
          "data": {
            "application/vnd.jupyter.widget-view+json": {
              "model_id": "3a6a8bd76a404751acfbbba90f9c9419",
              "version_minor": 0,
              "version_major": 2
            },
            "text/plain": [
              "  0%|          | 0/11308 [00:00<?, ?it/s]"
            ]
          },
          "metadata": {}
        },
        {
          "output_type": "display_data",
          "data": {
            "application/vnd.jupyter.widget-view+json": {
              "model_id": "854108f9b281480785ccbcc65ed21f5e",
              "version_minor": 0,
              "version_major": 2
            },
            "text/plain": [
              "  0%|          | 0/11306 [00:00<?, ?it/s]"
            ]
          },
          "metadata": {}
        },
        {
          "output_type": "display_data",
          "data": {
            "application/vnd.jupyter.widget-view+json": {
              "model_id": "94e5f2603f82441898c247c458eabebc",
              "version_minor": 0,
              "version_major": 2
            },
            "text/plain": [
              "  0%|          | 0/11306 [00:00<?, ?it/s]"
            ]
          },
          "metadata": {}
        }
      ]
    },
    {
      "cell_type": "markdown",
      "metadata": {
        "id": "EOxIm3VvQ2Fl"
      },
      "source": [
        "# 전처리 데이터 저장"
      ]
    },
    {
      "cell_type": "code",
      "metadata": {
        "colab": {
          "base_uri": "https://localhost:8080/"
        },
        "id": "nWQQ9_W9RqeO",
        "outputId": "b4bf2f63-15d2-4a26-eff6-aad2d8147d6f"
      },
      "source": [
        "!pip install xlsxwriter"
      ],
      "execution_count": 6,
      "outputs": [
        {
          "output_type": "stream",
          "name": "stdout",
          "text": [
            "Collecting xlsxwriter\n",
            "  Downloading XlsxWriter-3.0.1-py3-none-any.whl (148 kB)\n",
            "\u001b[?25l\r\u001b[K     |██▏                             | 10 kB 26.0 MB/s eta 0:00:01\r\u001b[K     |████▍                           | 20 kB 29.8 MB/s eta 0:00:01\r\u001b[K     |██████▋                         | 30 kB 12.7 MB/s eta 0:00:01\r\u001b[K     |████████▉                       | 40 kB 9.2 MB/s eta 0:00:01\r\u001b[K     |███████████                     | 51 kB 4.9 MB/s eta 0:00:01\r\u001b[K     |█████████████▏                  | 61 kB 5.4 MB/s eta 0:00:01\r\u001b[K     |███████████████▍                | 71 kB 5.8 MB/s eta 0:00:01\r\u001b[K     |█████████████████▋              | 81 kB 6.5 MB/s eta 0:00:01\r\u001b[K     |███████████████████▉            | 92 kB 6.7 MB/s eta 0:00:01\r\u001b[K     |██████████████████████          | 102 kB 5.2 MB/s eta 0:00:01\r\u001b[K     |████████████████████████▎       | 112 kB 5.2 MB/s eta 0:00:01\r\u001b[K     |██████████████████████████▍     | 122 kB 5.2 MB/s eta 0:00:01\r\u001b[K     |████████████████████████████▋   | 133 kB 5.2 MB/s eta 0:00:01\r\u001b[K     |██████████████████████████████▉ | 143 kB 5.2 MB/s eta 0:00:01\r\u001b[K     |████████████████████████████████| 148 kB 5.2 MB/s \n",
            "\u001b[?25hInstalling collected packages: xlsxwriter\n",
            "Successfully installed xlsxwriter-3.0.1\n"
          ]
        }
      ]
    },
    {
      "cell_type": "code",
      "metadata": {
        "id": "kwrZoVAeQzMm"
      },
      "source": [
        "df_target_text.to_excel(f'{DIR}/{OUTPUT}', engine='xlsxwriter')"
      ],
      "execution_count": 7,
      "outputs": []
    },
    {
      "cell_type": "markdown",
      "metadata": {
        "id": "s2X7hSwIOpU0"
      },
      "source": [
        "# 단순 통계\n",
        "- 채팅 많이 한 사람"
      ]
    },
    {
      "cell_type": "code",
      "metadata": {
        "id": "Nq4kAU9nD2bM"
      },
      "source": [
        "rank = df_target_text.groupby('chat_name').size().to_frame(name='count').reset_index()\n",
        "rank.sort_values('count', ascending=False, inplace=True)\n",
        "rank = rank.head(50)"
      ],
      "execution_count": 8,
      "outputs": []
    },
    {
      "cell_type": "code",
      "metadata": {
        "colab": {
          "base_uri": "https://localhost:8080/",
          "height": 1000
        },
        "id": "4KGdrpK3QXBK",
        "outputId": "e3db0f3b-ccef-4aa4-9883-5e2ba658c0f2"
      },
      "source": [
        "rank"
      ],
      "execution_count": 9,
      "outputs": [
        {
          "output_type": "execute_result",
          "data": {
            "text/html": [
              "<div>\n",
              "<style scoped>\n",
              "    .dataframe tbody tr th:only-of-type {\n",
              "        vertical-align: middle;\n",
              "    }\n",
              "\n",
              "    .dataframe tbody tr th {\n",
              "        vertical-align: top;\n",
              "    }\n",
              "\n",
              "    .dataframe thead th {\n",
              "        text-align: right;\n",
              "    }\n",
              "</style>\n",
              "<table border=\"1\" class=\"dataframe\">\n",
              "  <thead>\n",
              "    <tr style=\"text-align: right;\">\n",
              "      <th></th>\n",
              "      <th>chat_name</th>\n",
              "      <th>count</th>\n",
              "    </tr>\n",
              "  </thead>\n",
              "  <tbody>\n",
              "    <tr>\n",
              "      <th>172</th>\n",
              "      <td>조승현</td>\n",
              "      <td>664</td>\n",
              "    </tr>\n",
              "    <tr>\n",
              "      <th>56</th>\n",
              "      <td>개집</td>\n",
              "      <td>646</td>\n",
              "    </tr>\n",
              "    <tr>\n",
              "      <th>48</th>\n",
              "      <td>prodo</td>\n",
              "      <td>606</td>\n",
              "    </tr>\n",
              "    <tr>\n",
              "      <th>160</th>\n",
              "      <td>월세100만타자</td>\n",
              "      <td>596</td>\n",
              "    </tr>\n",
              "    <tr>\n",
              "      <th>179</th>\n",
              "      <td>짱짱</td>\n",
              "      <td>491</td>\n",
              "    </tr>\n",
              "    <tr>\n",
              "      <th>116</th>\n",
              "      <td>무늬만엔지니어</td>\n",
              "      <td>466</td>\n",
              "    </tr>\n",
              "    <tr>\n",
              "      <th>11</th>\n",
              "      <td>CharSyam</td>\n",
              "      <td>431</td>\n",
              "    </tr>\n",
              "    <tr>\n",
              "      <th>62</th>\n",
              "      <td>긔긔</td>\n",
              "      <td>348</td>\n",
              "    </tr>\n",
              "    <tr>\n",
              "      <th>134</th>\n",
              "      <td>소소한 데엔</td>\n",
              "      <td>292</td>\n",
              "    </tr>\n",
              "    <tr>\n",
              "      <th>126</th>\n",
              "      <td>비전메디컬</td>\n",
              "      <td>260</td>\n",
              "    </tr>\n",
              "    <tr>\n",
              "      <th>72</th>\n",
              "      <td>데린이 백엔드개발자</td>\n",
              "      <td>237</td>\n",
              "    </tr>\n",
              "    <tr>\n",
              "      <th>13</th>\n",
              "      <td>David35xxxv</td>\n",
              "      <td>235</td>\n",
              "    </tr>\n",
              "    <tr>\n",
              "      <th>82</th>\n",
              "      <td>데엔쟈누</td>\n",
              "      <td>230</td>\n",
              "    </tr>\n",
              "    <tr>\n",
              "      <th>133</th>\n",
              "      <td>소소</td>\n",
              "      <td>207</td>\n",
              "    </tr>\n",
              "    <tr>\n",
              "      <th>64</th>\n",
              "      <td>김성준</td>\n",
              "      <td>183</td>\n",
              "    </tr>\n",
              "    <tr>\n",
              "      <th>78</th>\n",
              "      <td>데엔</td>\n",
              "      <td>179</td>\n",
              "    </tr>\n",
              "    <tr>\n",
              "      <th>177</th>\n",
              "      <td>쥬스</td>\n",
              "      <td>169</td>\n",
              "    </tr>\n",
              "    <tr>\n",
              "      <th>102</th>\n",
              "      <td>뚜루룽</td>\n",
              "      <td>161</td>\n",
              "    </tr>\n",
              "    <tr>\n",
              "      <th>135</th>\n",
              "      <td>소희</td>\n",
              "      <td>154</td>\n",
              "    </tr>\n",
              "    <tr>\n",
              "      <th>29</th>\n",
              "      <td>Seed42</td>\n",
              "      <td>151</td>\n",
              "    </tr>\n",
              "    <tr>\n",
              "      <th>163</th>\n",
              "      <td>은유</td>\n",
              "      <td>144</td>\n",
              "    </tr>\n",
              "    <tr>\n",
              "      <th>7</th>\n",
              "      <td>AB</td>\n",
              "      <td>142</td>\n",
              "    </tr>\n",
              "    <tr>\n",
              "      <th>80</th>\n",
              "      <td>데엔쓰</td>\n",
              "      <td>140</td>\n",
              "    </tr>\n",
              "    <tr>\n",
              "      <th>6</th>\n",
              "      <td>111</td>\n",
              "      <td>123</td>\n",
              "    </tr>\n",
              "    <tr>\n",
              "      <th>184</th>\n",
              "      <td>초보입니다</td>\n",
              "      <td>120</td>\n",
              "    </tr>\n",
              "    <tr>\n",
              "      <th>31</th>\n",
              "      <td>af</td>\n",
              "      <td>114</td>\n",
              "    </tr>\n",
              "    <tr>\n",
              "      <th>84</th>\n",
              "      <td>데엔주니어</td>\n",
              "      <td>109</td>\n",
              "    </tr>\n",
              "    <tr>\n",
              "      <th>188</th>\n",
              "      <td>카카오보내줘</td>\n",
              "      <td>105</td>\n",
              "    </tr>\n",
              "    <tr>\n",
              "      <th>70</th>\n",
              "      <td>데린kafka</td>\n",
              "      <td>98</td>\n",
              "    </tr>\n",
              "    <tr>\n",
              "      <th>151</th>\n",
              "      <td>연서빠</td>\n",
              "      <td>95</td>\n",
              "    </tr>\n",
              "    <tr>\n",
              "      <th>103</th>\n",
              "      <td>라이언</td>\n",
              "      <td>93</td>\n",
              "    </tr>\n",
              "    <tr>\n",
              "      <th>137</th>\n",
              "      <td>수지조아/green</td>\n",
              "      <td>91</td>\n",
              "    </tr>\n",
              "    <tr>\n",
              "      <th>57</th>\n",
              "      <td>게발자</td>\n",
              "      <td>80</td>\n",
              "    </tr>\n",
              "    <tr>\n",
              "      <th>183</th>\n",
              "      <td>초보 dater</td>\n",
              "      <td>79</td>\n",
              "    </tr>\n",
              "    <tr>\n",
              "      <th>96</th>\n",
              "      <td>덴</td>\n",
              "      <td>78</td>\n",
              "    </tr>\n",
              "    <tr>\n",
              "      <th>33</th>\n",
              "      <td>celery</td>\n",
              "      <td>75</td>\n",
              "    </tr>\n",
              "    <tr>\n",
              "      <th>94</th>\n",
              "      <td>데장</td>\n",
              "      <td>71</td>\n",
              "    </tr>\n",
              "    <tr>\n",
              "      <th>118</th>\n",
              "      <td>방장봇</td>\n",
              "      <td>70</td>\n",
              "    </tr>\n",
              "    <tr>\n",
              "      <th>71</th>\n",
              "      <td>데린이</td>\n",
              "      <td>69</td>\n",
              "    </tr>\n",
              "    <tr>\n",
              "      <th>159</th>\n",
              "      <td>월급루팡/개발자/건물주가꿈</td>\n",
              "      <td>64</td>\n",
              "    </tr>\n",
              "    <tr>\n",
              "      <th>164</th>\n",
              "      <td>이게아니야</td>\n",
              "      <td>59</td>\n",
              "    </tr>\n",
              "    <tr>\n",
              "      <th>93</th>\n",
              "      <td>데이터조무사</td>\n",
              "      <td>54</td>\n",
              "    </tr>\n",
              "    <tr>\n",
              "      <th>110</th>\n",
              "      <td>마도사</td>\n",
              "      <td>51</td>\n",
              "    </tr>\n",
              "    <tr>\n",
              "      <th>17</th>\n",
              "      <td>EbayDE</td>\n",
              "      <td>51</td>\n",
              "    </tr>\n",
              "    <tr>\n",
              "      <th>16</th>\n",
              "      <td>Duggy</td>\n",
              "      <td>45</td>\n",
              "    </tr>\n",
              "    <tr>\n",
              "      <th>174</th>\n",
              "      <td>주니어엔지니어</td>\n",
              "      <td>44</td>\n",
              "    </tr>\n",
              "    <tr>\n",
              "      <th>127</th>\n",
              "      <td>빅린이</td>\n",
              "      <td>43</td>\n",
              "    </tr>\n",
              "    <tr>\n",
              "      <th>0</th>\n",
              "      <td>.</td>\n",
              "      <td>43</td>\n",
              "    </tr>\n",
              "    <tr>\n",
              "      <th>139</th>\n",
              "      <td>스파크초보</td>\n",
              "      <td>43</td>\n",
              "    </tr>\n",
              "    <tr>\n",
              "      <th>221</th>\n",
              "      <td>후잇</td>\n",
              "      <td>43</td>\n",
              "    </tr>\n",
              "  </tbody>\n",
              "</table>\n",
              "</div>"
            ],
            "text/plain": [
              "          chat_name  count\n",
              "172             조승현    664\n",
              "56               개집    646\n",
              "48            prodo    606\n",
              "160        월세100만타자    596\n",
              "179              짱짱    491\n",
              "116         무늬만엔지니어    466\n",
              "11         CharSyam    431\n",
              "62               긔긔    348\n",
              "134          소소한 데엔    292\n",
              "126           비전메디컬    260\n",
              "72       데린이 백엔드개발자    237\n",
              "13      David35xxxv    235\n",
              "82             데엔쟈누    230\n",
              "133              소소    207\n",
              "64              김성준    183\n",
              "78               데엔    179\n",
              "177              쥬스    169\n",
              "102             뚜루룽    161\n",
              "135              소희    154\n",
              "29           Seed42    151\n",
              "163              은유    144\n",
              "7                AB    142\n",
              "80              데엔쓰    140\n",
              "6               111    123\n",
              "184           초보입니다    120\n",
              "31               af    114\n",
              "84            데엔주니어    109\n",
              "188          카카오보내줘    105\n",
              "70          데린kafka     98\n",
              "151             연서빠     95\n",
              "103             라이언     93\n",
              "137      수지조아/green     91\n",
              "57              게발자     80\n",
              "183        초보 dater     79\n",
              "96                덴     78\n",
              "33           celery     75\n",
              "94               데장     71\n",
              "118             방장봇     70\n",
              "71              데린이     69\n",
              "159  월급루팡/개발자/건물주가꿈     64\n",
              "164           이게아니야     59\n",
              "93           데이터조무사     54\n",
              "110             마도사     51\n",
              "17           EbayDE     51\n",
              "16            Duggy     45\n",
              "174         주니어엔지니어     44\n",
              "127             빅린이     43\n",
              "0                 .     43\n",
              "139           스파크초보     43\n",
              "221              후잇     43"
            ]
          },
          "metadata": {},
          "execution_count": 9
        }
      ]
    },
    {
      "cell_type": "code",
      "metadata": {
        "colab": {
          "base_uri": "https://localhost:8080/"
        },
        "id": "l3uOTVqsOt84",
        "outputId": "f20def9e-841b-4242-ca8c-f2297f120407"
      },
      "source": [
        "## 채팅인원 전체\n",
        "print(df_target_text.chat_name.unique())"
      ],
      "execution_count": 10,
      "outputs": [
        {
          "output_type": "stream",
          "name": "stdout",
          "text": [
            "['히오스 노바' '루루' '짱짱' 'CharSyam' '개집' '비전메디컬' '만두전골조아' '데린이' '소소' '오이대당근'\n",
            " '무늬만엔지니어' 'celery' 'prodo' '딕구' '데린이동생' '데엔 꿈나무' '토끼' '김성준' '카카오보내줘'\n",
            " '데이터엔지니어-BK' '새벽' '데엔쟈누' '데엔쓰' '심장이없어' '조승현' '변성윤' '공룡' '데린이 백엔드개발자'\n",
            " '올인원' '랄라' '쫑긋' '데이터조무사' '카프카프카' 'Seed42' '몽고DB는몽골것이아니야' '루이스' '연서빠'\n",
            " '학생 엔지니어' '카프' '긔긔' '마도사' '카프카' '월세100만타자' '무념무상..' 'David35xxxv'\n",
            " 'sparkkkk' '알파카' '데애기' '소희' '라이언' '데니어' '데싸학부생' '게발자' '이게아니야' '소소한 데엔'\n",
            " '월급루팡/개발자/건물주가꿈' '오자영(오드리)' '11' 'ShootingStar' '준' '호롤라' '/데이터과학자 지망'\n",
            " 'af' '포비' '데친이' '마개' '험프리' '윤종원' 'J' '딩딩' '덴' '경양식돈까스' '딩가딩가'\n",
            " '수지조아/green' '데엔' '데이터레이크' 'juno' 'daniel' '데엔주니어' '스린이' '헤헷' '다빈치' '푸푸'\n",
            " 'ㅆ' '파랑파랑' '카일' '주니어엔지니어' '코린이' 'EbayDE' '빅린이' '데엔진짜하고싶은데엔' 'Enzo' '데엔좋아'\n",
            " '쿠루쿠루' '하이' '베어린' 'BA' 'hye' '탱쟈' '김영하' 'Duggy' 'AB' '김정의' '언젠간꼭' '아이스크린'\n",
            " '후잇' '화이팅빌런' 'nv' '주니어' '쥬스' '킁쿵' '인턴' '야호' '데엔할랭' '곰' '쿠쿠' '새싹'\n",
            " 'HADOOP_USER_NAME' '벨리' 'Rainy' '데린이친구' '전종희' '야옹' 'bleum' '카이' '데장'\n",
            " '초보 dater' 'Muyaho~' '데이터 엔지니어 준비중' '데엔이되고싶은백엔드' '제이그루비' '110_' '흰색'\n",
            " 'Berkl' '섭섭해' 'ㄷㄱ' '분석가' '수강신청대실패' '부끄미' '웃어라함께' '스파크초보' '티코티코' '111'\n",
            " 'ㅇㅇ' '루싸' '크루' 'mary' 'datatad' '.' '탱' 'kafka란' '한국인' '은유' '짱아'\n",
            " '엔지니어 교육 수강중' 'pp' '뚜루룽' '데린kafka' 'Luca' 'open' 'Dooopa' '뿌요' '코비'\n",
            " '마니마니' 'CONF' 'FooBar' '얼죽아' '페린/백엔드/8' '콩차' '옴마니반메옴' '쟈켄/백엔드/잡부' '플리니'\n",
            " 'La' '찐' '일꾼' '켓' '취준생' 'ml풀스택지망' 'hadp' '믜늬' '비기너' '쥬니어2세' '퓌휘파람~' '방장봇'\n",
            " '강석우' '모모' 'ㄱㄴㄷ' '그오오' '초보입니다' '뉴뉴' 'Eric' '아' '왈랄라' 'Kly' '빙수야' '1' '여'\n",
            " '데이터엔진' '데이터는v움직이는거야' '잡부' '현주' '하둡' '가즈아' '데린이13' '울림' '인형' '으악' '데이터너드'\n",
            " '하하' 'DE' '몰니르' '도라에몽' 'cluster' '디오' 'elephant' 'ks' '한국지능정보사회진흥원(NIA)'\n",
            " '비단뱀' '찬' '암데이터주니어러닝피플' 'Kkw' 'Do' '0ㅇ0' '김성욱']\n"
          ]
        }
      ]
    },
    {
      "cell_type": "markdown",
      "metadata": {
        "id": "sexcAfqJSakN"
      },
      "source": [
        "# WordCloud"
      ]
    },
    {
      "cell_type": "code",
      "metadata": {
        "colab": {
          "base_uri": "https://localhost:8080/"
        },
        "id": "ivjR5u59SZXA",
        "outputId": "f758f535-e2ad-4326-bdbf-db843649b7d1"
      },
      "source": [
        "## 환경 설정\n",
        "!pip install konlpy wordcloud\n",
        "!apt-get update -qq\n",
        "!apt-get install fonts-nanum* -qq"
      ],
      "execution_count": 11,
      "outputs": [
        {
          "output_type": "stream",
          "name": "stdout",
          "text": [
            "Collecting konlpy\n",
            "  Downloading konlpy-0.5.2-py2.py3-none-any.whl (19.4 MB)\n",
            "\u001b[K     |████████████████████████████████| 19.4 MB 1.2 MB/s \n",
            "\u001b[?25hRequirement already satisfied: wordcloud in /usr/local/lib/python3.7/dist-packages (1.5.0)\n",
            "Collecting JPype1>=0.7.0\n",
            "  Downloading JPype1-1.3.0-cp37-cp37m-manylinux_2_5_x86_64.manylinux1_x86_64.whl (448 kB)\n",
            "\u001b[K     |████████████████████████████████| 448 kB 62.7 MB/s \n",
            "\u001b[?25hCollecting beautifulsoup4==4.6.0\n",
            "  Downloading beautifulsoup4-4.6.0-py3-none-any.whl (86 kB)\n",
            "\u001b[K     |████████████████████████████████| 86 kB 6.1 MB/s \n",
            "\u001b[?25hRequirement already satisfied: lxml>=4.1.0 in /usr/local/lib/python3.7/dist-packages (from konlpy) (4.2.6)\n",
            "Collecting colorama\n",
            "  Downloading colorama-0.4.4-py2.py3-none-any.whl (16 kB)\n",
            "Requirement already satisfied: numpy>=1.6 in /usr/local/lib/python3.7/dist-packages (from konlpy) (1.19.5)\n",
            "Requirement already satisfied: tweepy>=3.7.0 in /usr/local/lib/python3.7/dist-packages (from konlpy) (3.10.0)\n",
            "Requirement already satisfied: typing-extensions in /usr/local/lib/python3.7/dist-packages (from JPype1>=0.7.0->konlpy) (3.7.4.3)\n",
            "Requirement already satisfied: six>=1.10.0 in /usr/local/lib/python3.7/dist-packages (from tweepy>=3.7.0->konlpy) (1.15.0)\n",
            "Requirement already satisfied: requests-oauthlib>=0.7.0 in /usr/local/lib/python3.7/dist-packages (from tweepy>=3.7.0->konlpy) (1.3.0)\n",
            "Requirement already satisfied: requests[socks]>=2.11.1 in /usr/local/lib/python3.7/dist-packages (from tweepy>=3.7.0->konlpy) (2.23.0)\n",
            "Requirement already satisfied: oauthlib>=3.0.0 in /usr/local/lib/python3.7/dist-packages (from requests-oauthlib>=0.7.0->tweepy>=3.7.0->konlpy) (3.1.1)\n",
            "Requirement already satisfied: idna<3,>=2.5 in /usr/local/lib/python3.7/dist-packages (from requests[socks]>=2.11.1->tweepy>=3.7.0->konlpy) (2.10)\n",
            "Requirement already satisfied: urllib3!=1.25.0,!=1.25.1,<1.26,>=1.21.1 in /usr/local/lib/python3.7/dist-packages (from requests[socks]>=2.11.1->tweepy>=3.7.0->konlpy) (1.24.3)\n",
            "Requirement already satisfied: certifi>=2017.4.17 in /usr/local/lib/python3.7/dist-packages (from requests[socks]>=2.11.1->tweepy>=3.7.0->konlpy) (2021.5.30)\n",
            "Requirement already satisfied: chardet<4,>=3.0.2 in /usr/local/lib/python3.7/dist-packages (from requests[socks]>=2.11.1->tweepy>=3.7.0->konlpy) (3.0.4)\n",
            "Requirement already satisfied: PySocks!=1.5.7,>=1.5.6 in /usr/local/lib/python3.7/dist-packages (from requests[socks]>=2.11.1->tweepy>=3.7.0->konlpy) (1.7.1)\n",
            "Requirement already satisfied: pillow in /usr/local/lib/python3.7/dist-packages (from wordcloud) (7.1.2)\n",
            "Installing collected packages: JPype1, colorama, beautifulsoup4, konlpy\n",
            "  Attempting uninstall: beautifulsoup4\n",
            "    Found existing installation: beautifulsoup4 4.6.3\n",
            "    Uninstalling beautifulsoup4-4.6.3:\n",
            "      Successfully uninstalled beautifulsoup4-4.6.3\n",
            "Successfully installed JPype1-1.3.0 beautifulsoup4-4.6.0 colorama-0.4.4 konlpy-0.5.2\n",
            "Selecting previously unselected package fonts-nanum.\n",
            "(Reading database ... 155047 files and directories currently installed.)\n",
            "Preparing to unpack .../fonts-nanum_20170925-1_all.deb ...\n",
            "Unpacking fonts-nanum (20170925-1) ...\n",
            "Selecting previously unselected package fonts-nanum-eco.\n",
            "Preparing to unpack .../fonts-nanum-eco_1.000-6_all.deb ...\n",
            "Unpacking fonts-nanum-eco (1.000-6) ...\n",
            "Selecting previously unselected package fonts-nanum-extra.\n",
            "Preparing to unpack .../fonts-nanum-extra_20170925-1_all.deb ...\n",
            "Unpacking fonts-nanum-extra (20170925-1) ...\n",
            "Selecting previously unselected package fonts-nanum-coding.\n",
            "Preparing to unpack .../fonts-nanum-coding_2.5-1_all.deb ...\n",
            "Unpacking fonts-nanum-coding (2.5-1) ...\n",
            "Setting up fonts-nanum-extra (20170925-1) ...\n",
            "Setting up fonts-nanum (20170925-1) ...\n",
            "Setting up fonts-nanum-coding (2.5-1) ...\n",
            "Setting up fonts-nanum-eco (1.000-6) ...\n",
            "Processing triggers for fontconfig (2.12.6-0ubuntu2) ...\n"
          ]
        }
      ]
    },
    {
      "cell_type": "code",
      "metadata": {
        "id": "XB8EVJHEStUW"
      },
      "source": [
        "from wordcloud import WordCloud\n",
        "import matplotlib.pyplot as plt"
      ],
      "execution_count": 12,
      "outputs": []
    },
    {
      "cell_type": "code",
      "metadata": {
        "id": "9lCtvSujT3YF"
      },
      "source": [
        "rank_list = [(x[0], x[1]) for i, x in rank.iterrows()]"
      ],
      "execution_count": 13,
      "outputs": []
    },
    {
      "cell_type": "code",
      "metadata": {
        "colab": {
          "base_uri": "https://localhost:8080/",
          "height": 449
        },
        "id": "-iYGXMmJS4lH",
        "outputId": "35f67bab-0d88-4ad2-9883-c564975c3642"
      },
      "source": [
        "wc = WordCloud(font_path='/usr/share/fonts/truetype/nanum/NanumGothic.ttf', background_color='white', width=800, height=600)\n",
        "cloud = wc.generate_from_frequencies(dict(rank_list))\n",
        "plt.figure(figsize=(10, 8))\n",
        "plt.axis('off')\n",
        "plt.imshow(cloud)\n",
        "plt.show()"
      ],
      "execution_count": 14,
      "outputs": [
        {
          "output_type": "display_data",
          "data": {
            "image/png": "[encoded data removed]",
            "text/plain": [
              "<Figure size 720x576 with 1 Axes>"
            ]
          },
          "metadata": {
            "needs_background": "light"
          }
        }
      ]
    },
    {
      "cell_type": "code",
      "metadata": {
        "id": "vVGS7dSAS62t"
      },
      "source": [
        ""
      ],
      "execution_count": null,
      "outputs": []
    }
  ]
}